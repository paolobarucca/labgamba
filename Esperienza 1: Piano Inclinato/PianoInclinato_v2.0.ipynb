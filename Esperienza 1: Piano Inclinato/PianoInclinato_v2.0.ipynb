{
 "cells": [
  {
   "cell_type": "markdown",
   "metadata": {},
   "source": [
    "## Determinazione dell'accelerazione di gravità mediante misure di moto uniformemente accelerato lungo un piano inclinato\n",
    "\n",
    "### Scopo dell'esperienza\n",
    "Determinare sperimentalmente l’accelerazione di gravità $g$ mediante misure di tempi e spazi relativi al moto uniformemente accelerato di un corpo lungo un piano inclinato. \n",
    "\n",
    "### Materiali e strumenti utilizzati \n",
    "- rotaia rettilinea (piano inclinato) di lunghezza L;\n",
    "- treppiede con asta metallica verticale da infilare nell’aggancio della rotaia per inclinarla;\n",
    "- carrello (macchinina) con respingente magnetico (e propulsore a molla);\n",
    "- mascherina di plexiglas trasparente con tratti scuri variamente spaziati da fissare longitudinalmente sul carrello\n",
    "- metro a nastro e scala graduata lungo il piano inclinato;\n",
    "- Smart Timer;\n",
    "- due traguardi a fotocellula da collegare allo Smart Timer;\n",
    "- questo notebook Python, dove annotare e analizzare i risultati dell'esperimento.\n",
    "\n",
    "<img src=\"apparato.png\">\n",
    "\n",
    "Il **fototraguardo** è basato su una coppia emettitore-rivelatore di raggi infrarossi a 880 nm, con un tempo caratteristica di salita di 500 ns e uno di discesa di 50 ns: un oggetto che passa attraverso il fototraguardo ostacola il fascio infrarosso provocando l'apertura del circuito. Per un oggetto che passa a 1 cm dal rivelatore infrarosso, con una velocità minore di 10 m/s, la differenza tra la lunghezza reale e quella misurata è minore di un millimetro. Documentazione [qui](https://www.sbai.uniroma1.it/labfis/strumentazione_sensori_pasco_fototraguardo.html)\n",
    "\n",
    "### Fondamenti Teorici\n",
    "\n",
    "Il moto senza attrito di un oggetto lungo un piano inclinato è uniformemente accelerato, secondo la legge oraria:\n",
    "\n",
    "$$s(t)=s_\\mathrm{in}+v_\\mathrm{in} (t-t_\\mathrm{in})+\\frac{1}{2}a\\,(t-t_\\mathrm{in})^2$$\n",
    "\n",
    "\n",
    "L’accelerazione $a$, in assenza di attrito, è legata all’accelerazione di gravità dalla semplice relazione  \n",
    "\n",
    "$$a=g\\sin\\alpha$$\n",
    " \n",
    "dove $\\alpha$ è l’angolo di cui è inclinato il piano. Nel nostro caso, e in riferimento alla figura, è $H=L\\sin\\alpha$, da cui \n",
    "\n",
    "$$a=g H/L$$.\n",
    "\n",
    "In presenza di una forza di attrito\n",
    " \n",
    "$$F_k =-\\mu_k m g\\cos\\alpha $$\n",
    "\n",
    "avremo invece\n",
    "\n",
    "$$ a = g(\\sin\\alpha - \\mu_k \\cos\\alpha)$$\n",
    "\n",
    "Nell'esperimento $t_0$ sarà relativo al primo sensore a fotocellula (indice 1) e t sarà relativo al secondo sensore a fotocellula (indice 2), da cui:\n",
    "\n",
    "$$\\Delta s=s_2-s_1=v_1\\,\\Delta t+\\frac{1}{2}a\\,\\Delta t^2\\qquad (1)$$\n",
    " \t\t\t \n",
    " avendo indicato con $s_2$ e $s_1$ le distanze dei 2 sensori a fotocellula dalla sommità della rotaia ($s=0$).\n",
    "\n",
    " \n",
    " ### Descrizione dell'Esperienza\n",
    " \n",
    " a) Determinare la posizione orizzontale della rotaia posizionando la rotaia stessa sul tavolo e posizionando il carrello al suo centro: se il carrello si muove, aggiustare la vite posta alla fine della rotaia finché il carrello non si muove più. Misurare l’altezza h0 tra il tavolo e la rotaia (lato  superiore). \n",
    " \n",
    " <img src=\"fig_a1.png\">\n",
    " <img src=\"fig_a2.png\">\n",
    "\n",
    "\n",
    "\n",
    "b) Fissare il primo sensore a fotocellula a una ventina di cm dalla sommità (s=0) del piano inclinato (collegare il relativo cavo al canale 1 dello Smart Timer). Indicando con l’indice 1 tale sensore, la distanza del primo sensore dalla sommità sarà s1. Valutare l’incertezza $δ(s_1)$ relativa alla misura di s1.\n",
    "\n",
    "<img src=\"fig_b.png\">\n",
    "\n",
    "\n",
    "\n",
    "c) Accendere il sistema di acquisizione Smart Timer con l’interruttore posto sulla sinistra [I/O], premere il tasto 1 “Select Measurement” fino a scegliere la misura “TIME”, premere il tasto 2 “Select Mode” fino a scegliere la modalità “Two Gates” (si misurerà l’intervallo di tempo che intercorre tra il passaggio dal 1° al 2° fototraguardo).\n",
    "\n",
    "\n",
    "d) Regolare l'inclinazione del piano, verificando con la bolla che non vi sia una pendenza laterale. Misurare l’altezza h1 della rotaia all’estremità alta (distanza tavolo – lato superiore della rotaia): l’altezza $H$ da considerare sarà $H=h_1-h_0$ (scegliere un angolo di inclinazione non troppo grande). Valutare l’incertezza $δ(H)$ relativa ad $H$.\n",
    "\n",
    "<img src=\"fig_d.png\">\n",
    "\n",
    "\n",
    "\n",
    "e) Fissare il secondo sensore a una distanza $\\Delta s$ di qualche centimetro (ad es. 10 cm) dal primo. Indicando con l’indice 2 tale sensore, la distanza del secondo sensore dalla sommità sarà $s_2$ e quindi $\\Delta s=s_2-s_1$. Valutare l’incertezza $\\delta(s_2)$ relativa alla misura di $s_2$; valutare l’incertezza $\\delta(\\Delta s)$ relativa a $\\Delta s$.\n",
    "\n",
    "<img src=\"fig_e.png\">\n",
    "\n",
    "f) Ripetere le seguenti operazioni per almeno 10 volte, senza variare la distanza tra i sensori:\n",
    "1. Premere il tasto 3 “Start” dello smart timer (si sente un suono e compare un asterisco sulla seconda riga dello strumento): a questo punto lo smart timer è attivo e pronto a ricevere gli impulsi dai fototraguardi e a mostrare il tempo t impiegato a percorrere lo spazio s tra i due sensori.\n",
    "2. Disporre il carrello alla sommità della rotaia e lasciarlo libero di scendere, avendo cura di non imprimere alcuna forza alla partenza (controllare che al passaggio sui due fototraguardi si illumini una spia rossa).\n",
    "3. Segnare il tempo t visualizzato (rimane visualizzato finché non si preme di nuovo “Start”) e l'incertezza associata. \n",
    "\n",
    "g) Ripetere le operazioni (e)-(f) almeno 5 volte, TENENDO FISSA LA POSIZIONE DEL 1° SENSORE e cambiando quella del 2° in modo tale che la distanza s aumenti ogni volta (ad es. di 10 cm). \n",
    "\n",
    "h) Ripetere le misure del moto del carrello in discesa, secondo la procedura seguita in precedenza [operazioni (d)-(g)], per almeno 4 angoli di inclinazione $\\alpha_i$ diversi (ossia per almeno 4 diversi valori di $H_i$).\n",
    "\n",
    "### Grandezze Utilizzate \n",
    "- $s_1$, $s_2$: distanza del primo e secondo sensore dalla sommità del piano;  $δ s_1$, $δ s_2$: incertezze nella misura di $s_1$ e $s_2$ \n",
    "- $\\Delta s= s_2 - s_1$: distanza tra i due sensori; $δ(\\Delta s)$: incertezza nella valutazione di $s$ \n",
    "- $\\Delta t_i$: $i$-esima misura del tempo di percorrenza tra $s_1$ e $s_2$\n",
    "- $\\alpha_i$ : angolo di inclinazione del piano rispetto all’orizzontale \n",
    "- $H$: altezza della rotaia all’estremità alta; $δ(H)$: incertezza nella valutazione di $H$\n",
    "- $L$: lunghezza rotaia; $δ(L)$: incertezza nella misura di $L$\n",
    "- $δ(\\overline{\\Delta t})$ : stima dell'incertezza su $\\overline{\\Delta t}$ come deviazione standard della media. \n",
    "\n",
    "\n",
    "#### Fit Quadratico\n",
    "Per verificare la bontà di Eq. (1) nel descrivere i dati sperimentali, bisogna effettuare un fit dei coefficienti $A$ e $B$ nella funzione $y= A x^2 + B x$, seconda la procedura dei minimi quadrati. \n",
    "Siano $x_i,y_i$,con $i=1,\\ldots,n$, i punti sperimentali, e definiamo  la funzione\n",
    "\n",
    "TODO: Fare il metodo dei minimi quadrati pesando con $1/\\delta^2(y_i)$, dove nel nostro caso $\\delta(y_i)=$\\delta(\\Delta s_i)$\n",
    "\n",
    "$$ D(A,B) = \\sum_{i=1}^n (A x_i^2 + B x_i - y_i)^2 $$ .\n",
    "\n",
    "I valori ottimali di $A$ e $B$ sono ottenuti risolvendo il sistema di equazioni \n",
    "\n",
    "$$ \\frac{\\partial D}{\\partial A} = 0;\\qquad \\frac{\\partial D}{\\partial B} = 0. $$\n",
    "\n",
    "\n",
    "Introducendo i simboli\n",
    "\n",
    "$$ \\langle x\\rangle = \\frac{1}{n}\\sum_{i=1}^nx_i,\\quad\n",
    "\\langle x^2\\rangle = \\frac{1}{n}\\sum_{i=1}^nx_i^2,\\quad\n",
    "\\langle x y\\rangle = \\frac{1}{n}\\sum_{i=1}^nx_i y_i,\\quad\\mathrm{etc.}$$\n",
    "\n",
    "la soluzione del sistema è data da\n",
    "\n",
    "$$\n",
    "A=\\frac{\\langle x^2 y\\rangle\\langle x^2\\rangle-\\langle x y\\rangle\\langle x^3\\rangle}{\\Delta};\\quad\n",
    "B=\\frac{\\langle xy\\rangle\\langle x^4\\rangle-\\langle x^3\\rangle\\langle x^2 y\\rangle}{\\Delta},\n",
    "$$\n",
    "con \n",
    "$$ \\Delta = \\langle x^2\\rangle\\langle x^4\\rangle-\\langle x^3\\rangle^2$$\n",
    "\n",
    "##### Propagazione degli errori\n",
    "Ricordiamo la formula di propagazione degli errori per una quantità $\\alpha = f(x,y,\\dots)$:\n",
    "\n",
    "$$\\delta^2(\\alpha) = \\left(\\frac{\\partial f}{\\partial x}\\right)^2 \\delta^2(x) + \\left(\\frac{\\partial f}{\\partial y}\\right)^2 \\delta^2(y) + \\ldots $$\n",
    "\n",
    "### Utilizzo del notebook Python\n",
    "TODO\n",
    "- esegui cella: shift-invio, ctrl-invio\n",
    "- cella blu / cella verde\n",
    "- tipi di cella (standard o markdown (M) )\n",
    "- copia e incolla\n",
    "- raccolta dati\n",
    "- aggiungere note, commenti, celle\n",
    "\n",
    "### Note\n",
    "- riportare una sola cifra significativa per le incertezze; \n",
    "- quando si scrivono misure di grandezze non riportare più cifre significative di quelle coperte dall'incertezza e ricordarsi delle unità di misura; \n",
    "- riportare le formule usate per calcolare i risultati e per determinare le incertezze; \n",
    "- sforzarsi di fare osservazioni e commenti propri e, se si ritiene opportuno, sperimentare, motivando, anche cose diverse da quelle suggerite. \n",
    "\n",
    "\n"
   ]
  },
  {
   "cell_type": "markdown",
   "metadata": {},
   "source": [
    "## @@@@@@@@     INIZIO ESPERIENZA   @@@@@@@@"
   ]
  },
  {
   "cell_type": "markdown",
   "metadata": {},
   "source": [
    "### Imports e Definizioni"
   ]
  },
  {
   "cell_type": "code",
   "execution_count": 94,
   "metadata": {
    "collapsed": false
   },
   "outputs": [
    {
     "name": "stdout",
     "output_type": "stream",
     "text": [
      "Populating the interactive namespace from numpy and matplotlib\n"
     ]
    }
   ],
   "source": [
    "%pylab inline\n",
    "from pandas import DataFrame\n",
    "#import qgrid\n",
    "#qgrid.nbinstall(overwrite=True)\n",
    "#TODO\n",
    "from scipy.optimize import leastsq\n",
    "from scipy.optimize import curve_fit"
   ]
  },
  {
   "cell_type": "code",
   "execution_count": 95,
   "metadata": {
    "collapsed": false
   },
   "outputs": [],
   "source": [
    "#TODO eliminare\n",
    "def fitfunc(p,x):                          # funzione utilizzata per il fit parabolico\n",
    "    return 0.5*p[0]*x**2+p[1]\n",
    "    \n",
    "def errfunc(p,x,y):                        # errore = differenza tra il fit fitfunc(p,x) e i dati y\n",
    "    return fitfunc(p,x)-y"
   ]
  },
  {
   "cell_type": "code",
   "execution_count": 96,
   "metadata": {
    "collapsed": true
   },
   "outputs": [],
   "source": [
    "def fit_lineare(x,y):                     # prototipo di funzione da completare\n",
    "    \"\"\"\n",
    "    Questa funzione restituisce termine noto e coefficiente angolare della retta interpolante\n",
    "    \"\"\"\n",
    "    l = len(x)\n",
    "    mx = mean(x)\n",
    "    mxx = mean(x*x)\n",
    "    mxy = mean(x*y)\n",
    "    D = mxx - mx**2\n",
    "    A = (mxx*my-mx*mxy) / D\n",
    "    B = (mxy - mx*my) / D\n",
    "    σB = \n",
    "    return A,B"
   ]
  },
  {
   "cell_type": "code",
   "execution_count": 97,
   "metadata": {
    "collapsed": true
   },
   "outputs": [],
   "source": [
    "def fit_quadratico(x,y):                     # TODO\n",
    "    \"\"\"\n",
    "    Questa funzione restituisce i coefficienti parabola interpolante A + Bx + Cx^2\n",
    "    \"\"\"\n",
    "    l=len(x)\n",
    "    mx=mean(x)\n",
    "    mxx=mean(x*x)\n",
    "    mxy=mean(x*y)\n",
    "    D=mxx-mx**2\n",
    "    A=(mxx*my-mx*mxy)/D\n",
    "    B=(mxy-mx*my)/D\n",
    "    return A,B"
   ]
  },
  {
   "cell_type": "markdown",
   "metadata": {},
   "source": [
    "### Raccolta Dati"
   ]
  },
  {
   "cell_type": "markdown",
   "metadata": {},
   "source": [
    "#### Round 1"
   ]
  },
  {
   "cell_type": "code",
   "execution_count": 98,
   "metadata": {
    "collapsed": false,
    "scrolled": false
   },
   "outputs": [
    {
     "name": "stdout",
     "output_type": "stream",
     "text": [
      "Nell'esperimento che segue H  =  5.00 +/- 0.10 cm\n"
     ]
    }
   ],
   "source": [
    "parziale=[]                                # i risultati parziali saranno raccolti in questa lista\n",
    "H=5; dH=0.1                                # altezza della sommità del piano e relativa incertezza [cm]\n",
    "print(\"Nell'esperimento che segue H  = %5.2f +/- %4.2f cm\"%(H ,dH ))"
   ]
  },
  {
   "cell_type": "code",
   "execution_count": 112,
   "metadata": {
    "collapsed": false
   },
   "outputs": [
    {
     "data": {
      "text/html": [
       "<div>\n",
       "<table border=\"1\" class=\"dataframe\">\n",
       "  <thead>\n",
       "    <tr style=\"text-align: right;\">\n",
       "      <th>serie</th>\n",
       "      <th>Δs</th>\n",
       "      <th>Δt̅</th>\n",
       "      <th>δ(Δs)</th>\n",
       "      <th>δ(Δt̅)</th>\n",
       "    </tr>\n",
       "  </thead>\n",
       "  <tbody>\n",
       "    <tr>\n",
       "      <th>1</th>\n",
       "      <td>10</td>\n",
       "      <td>1.4500</td>\n",
       "      <td>1.5</td>\n",
       "      <td>0.111803</td>\n",
       "    </tr>\n",
       "    <tr>\n",
       "      <th>2</th>\n",
       "      <td>15</td>\n",
       "      <td>1.7125</td>\n",
       "      <td>2.0</td>\n",
       "      <td>0.054486</td>\n",
       "    </tr>\n",
       "    <tr>\n",
       "      <th>3</th>\n",
       "      <td>5</td>\n",
       "      <td>1.0000</td>\n",
       "      <td>1.0</td>\n",
       "      <td>0.158114</td>\n",
       "    </tr>\n",
       "  </tbody>\n",
       "</table>\n",
       "</div>"
      ],
      "text/plain": [
       "serie  Δs     Δt̅  δ(Δs)    δ(Δt̅)\n",
       "1      10  1.4500    1.5  0.111803\n",
       "2      15  1.7125    2.0  0.054486\n",
       "3       5  1.0000    1.0  0.158114"
      ]
     },
     "execution_count": 112,
     "metadata": {},
     "output_type": "execute_result"
    }
   ],
   "source": [
    "# Inserisci qua le misurazioni di Δt\n",
    "Δt = [\n",
    "        [1.5, 1.4, 1.3, 1.6],\n",
    "        [1.7, 1.8, 1.7, 1.65],\n",
    "        [1.1, 0.9, 1.2, 0.8]\n",
    "    ]\n",
    "\n",
    "# Inserisci qua le misurazioni di Δs\n",
    "Δs = [\n",
    "        10.0, \n",
    "        15.0, \n",
    "        5.0\n",
    "    ]\n",
    "\n",
    "# Inserisci qua gli errori su Δs\n",
    "δΔs = [ \n",
    "        1.5, \n",
    "        2.0, \n",
    "        1.0\n",
    "    ]\n",
    "\n",
    "Δt̅ = mean(Δt,1)\n",
    "δΔt̅ = std(Δt,1)\n",
    "\n",
    "df = DataFrame({'Δs':ds, 'δ(Δs)':δΔs, 'Δt̅':meanΔt, 'δ(Δt̅)':δΔt̅})\n",
    "df.index=df.index+1   \n",
    "df.columns.name='serie'                    # assegno un nome alla prima colonna \n",
    "df.round(3)                                 # stampo la tabella con un massimo di 3 decimali di precisione\n",
    "df"
   ]
  },
  {
   "cell_type": "code",
   "execution_count": 108,
   "metadata": {
    "collapsed": false
   },
   "outputs": [
    {
     "data": {
      "text/plain": [
       "[<matplotlib.lines.Line2D at 0x7f569ff643c8>]"
      ]
     },
     "execution_count": 108,
     "metadata": {},
     "output_type": "execute_result"
    },
    {
     "data": {
      "image/png": "[encoded data removed]",
      "text/plain": [
       "<matplotlib.figure.Figure at 0x7f569ff6acc0>"
      ]
     },
     "metadata": {},
     "output_type": "display_data"
    }
   ],
   "source": [
    "# Verifica legge quadratica\n",
    "p0=[0.,0.]\n",
    "p,success = leastsq(errfunc, p0, args=(df['Δt̅'], df['Δs']))\n",
    "\n",
    "df.plot(x='Δt̅',y='Δs',xerr='δ(Δt̅)',yerr='δ(Δs)',kind='scatter',grid=True)\n",
    "dt=arange(0.,3.)\n",
    "plot(dt,fitfunc(p,dt))"
   ]
  },
  {
   "cell_type": "markdown",
   "metadata": {},
   "source": [
    "#### Round 2 (modifica $H$ e ripeti gli esperimenti"
   ]
  },
  {
   "cell_type": "code",
   "execution_count": null,
   "metadata": {
    "collapsed": true
   },
   "outputs": [],
   "source": []
  },
  {
   "cell_type": "markdown",
   "metadata": {},
   "source": [
    "### Calcolo di $g$ e di $\\mu$"
   ]
  },
  {
   "cell_type": "code",
   "execution_count": null,
   "metadata": {
    "collapsed": true
   },
   "outputs": [],
   "source": []
  },
  {
   "cell_type": "markdown",
   "metadata": {},
   "source": [
    "### Annotazioni \n",
    "\n",
    "bla bla bla\n",
    "bla bla bla"
   ]
  },
  {
   "cell_type": "code",
   "execution_count": null,
   "metadata": {
    "collapsed": true
   },
   "outputs": [],
   "source": [
    "H1=21.4\n",
    "\n",
    "s1=30  s2=50\n",
    "\n",
    "0.2370\n",
    "0.2369\n",
    "0.2374\n",
    "0.2377\n",
    "0.2375\n",
    "\n",
    "s1= 30  s2=60  # +/-1mm\n",
    " \n",
    "0.3289\n",
    "0.3289\n",
    "0.3288\n",
    "0.3288\n",
    "0.3288\n",
    "\n",
    "s1= 30  s2=70  # +/-1mm\n",
    "\n",
    "0.4083\n",
    "0.4096\n",
    "0.4094\n",
    "0.4094\n",
    "0.4094\n",
    "\n",
    "s1= 30  s2=80  # +/-1mm\n",
    "\n",
    "0.4855\n",
    "0.4860\n",
    "0.4871\n",
    "0.4861\n",
    "0.4865\n",
    "\n",
    "H1=14.2\n",
    "\n",
    "s1= 30  s2=80  # +/-1mm\n",
    "\n",
    "0.6137\n",
    "0.6140\n",
    "0.6127\n",
    "0.6150\n",
    "0.6144\n",
    "\n",
    "s1= 30  s2=70  # +/-1mm\n",
    "\n",
    "0.5201\n",
    "0.5204\n",
    "0.5209\n",
    "0.5205\n",
    "0.5222\n",
    "\n",
    "s1= 30  s2=60  # +/-1mm\n",
    "\n",
    "0.4165\n",
    "0.4163\n",
    "0.4186\n",
    "0.4168\n",
    "04169\n",
    "\n",
    "s1= 30  s2=50  # +/-1mm\n",
    "\n",
    "0,3022\n",
    "0,3027\n",
    "0,3017\n",
    "0,3019\n",
    "0,3017\n"
   ]
  }
 ],
 "metadata": {
  "kernelspec": {
   "display_name": "Python 2",
   "language": "python",
   "name": "python2"
  },
  "language_info": {
   "codemirror_mode": {
    "name": "ipython",
    "version": 2
   },
   "file_extension": ".py",
   "mimetype": "text/x-python",
   "name": "python",
   "nbconvert_exporter": "python",
   "pygments_lexer": "ipython2",
   "version": "2.7.13"
  }
 },
 "nbformat": 4,
 "nbformat_minor": 2
}
